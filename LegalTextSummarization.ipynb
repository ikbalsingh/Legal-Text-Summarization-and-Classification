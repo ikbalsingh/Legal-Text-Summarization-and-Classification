{
 "cells": [
  {
   "cell_type": "code",
   "execution_count": 1,
   "metadata": {},
   "outputs": [
    {
     "name": "stdout",
     "output_type": "stream",
     "text": [
      "[('Binapani', 'PERSON'), ('Sarkar', 'PERSON'), (',', 'O'), ('Anup', 'PERSON'), ('Sarkar', 'PERSON'), ('and', 'O'), ('Tapan', 'PERSON'), ('Sarkar', 'PERSON'), ('are', 'O'), ('good', 'O'), ('friends', 'O')]\n"
     ]
    }
   ],
   "source": [
    "from stanfordcorenlp import StanfordCoreNLP\n",
    "import logging\n",
    "import json\n",
    "\n",
    "class StanfordNLP:\n",
    "    def __init__(self, host='http://localhost', port=9000):\n",
    "        self.nlp = StanfordCoreNLP(host, port=port,\n",
    "                                   timeout=30000)  # , quiet=False, logging_level=logging.DEBUG)\n",
    "        self.props = {\n",
    "            'annotators': 'tokenize,ssplit,pos,lemma,ner,parse,depparse,dcoref,relation',\n",
    "            'pipelineLanguage': 'en',\n",
    "            'outputFormat': 'json'\n",
    "        }\n",
    "\n",
    "    def word_tokenize(self, sentence):\n",
    "        return self.nlp.word_tokenize(sentence)\n",
    "\n",
    "    def pos(self, sentence):\n",
    "        return self.nlp.pos_tag(sentence)\n",
    "\n",
    "    def ner(self, sentence):\n",
    "        return self.nlp.ner(sentence)\n",
    "\n",
    "    def parse(self, sentence):\n",
    "        return self.nlp.parse(sentence)\n",
    "\n",
    "    def dependency_parse(self, sentence):\n",
    "        return self.nlp.dependency_parse(sentence)\n",
    "\n",
    "    def annotate(self, sentence):\n",
    "        return json.loads(self.nlp.annotate(sentence, properties=self.props))\n",
    "\n",
    "    @staticmethod\n",
    "    def tokens_to_dict(_tokens):\n",
    "        tokens = defaultdict(dict)\n",
    "        for token in _tokens:\n",
    "            tokens[int(token['index'])] = {\n",
    "                'word': token['word'],\n",
    "                    'lemma': token['lemma'],\n",
    "                'pos': token['pos'],\n",
    "                'ner': token['ner']\n",
    "            }\n",
    "        return tokens\n",
    "\n",
    "\n",
    "sNLP = StanfordNLP()\n",
    "text = 'Binapani Sarkar, Anup Sarkar and Tapan Sarkar are good friends'\n",
    "tagg = sNLP.ner(text)\n",
    "print(tagg)"
   ]
  },
  {
   "cell_type": "code",
   "execution_count": 2,
   "metadata": {},
   "outputs": [],
   "source": [
    "def substringSieve(string_list):\n",
    "    string_list.sort(key=lambda s: len(s), reverse=True)\n",
    "    out = []\n",
    "    for s in string_list:\n",
    "        if not any([s in o for o in out]):\n",
    "            out.append(s)\n",
    "    return out"
   ]
  },
  {
   "cell_type": "code",
   "execution_count": 3,
   "metadata": {},
   "outputs": [],
   "source": [
    "def get_continuous_chunks(tagged_sent):\n",
    "    continuous_chunk = []\n",
    "    current_chunk = []\n",
    "\n",
    "    for token, tag in tagged_sent:\n",
    "        if tag != \"O\":\n",
    "            current_chunk.append((token, tag))\n",
    "        else:\n",
    "            if current_chunk: # if the current chunk is not empty\n",
    "                continuous_chunk.append(current_chunk)\n",
    "                current_chunk = []\n",
    "    # Flush the final current_chunk into the continuous_chunk, if any.\n",
    "    if current_chunk:\n",
    "        continuous_chunk.append(current_chunk)\n",
    "    return continuous_chunk"
   ]
  },
  {
   "cell_type": "code",
   "execution_count": 4,
   "metadata": {},
   "outputs": [],
   "source": [
    "named_entities = get_continuous_chunks(tagg)\n",
    "named_entities_str_tag = [(\" \".join([token for token, tag in ne]), ne[0][1]) for ne in named_entities]"
   ]
  },
  {
   "cell_type": "code",
   "execution_count": 5,
   "metadata": {},
   "outputs": [],
   "source": [
    "import PyPDF2\n",
    "from nltk.corpus import stopwords\n",
    "from nltk.tokenize import word_tokenize"
   ]
  },
  {
   "cell_type": "code",
   "execution_count": 6,
   "metadata": {},
   "outputs": [],
   "source": [
    "text1 = '''\n",
    "1\n",
    "\n",
    "\n",
    "IN THE SUPREME COURT OF INDIA\n",
    "\n",
    "CRIMINAL APPELLATE JURISDICTION\n",
    "\n",
    "CRIMINAL APPEAL NO(S). 420 OF 2010\n",
    "\n",
    "\n",
    "\n",
    "\n",
    "RAMESH KUMAR\n",
    "\n",
    "\n",
    "\n",
    "\n",
    "...APPELLANT(S)\n",
    "\n",
    "VERSUS\n",
    "\n",
    "THE STATE OF PUNJAB\n",
    "\n",
    "\n",
    "\n",
    "\n",
    "...RESPONDENT(S)\n",
    "\n",
    "\n",
    "\n",
    "ORDER\n",
    "\n",
    "    1. Two  (02)  accused  were  convicted  by\n",
    "\n",
    "the learned trial Court for a triple murder that took place in the intervening night of 2nd/ 3rd August, 2002. The deceased were the father, the mother and the brother of accused Harcharan Singh who has since\n",
    "\n",
    "withdrawn his appeal. The present appellant Ramesh Kumar was a tenant in the house belonging to the deceased.\n",
    "\n",
    "    2. There  is  no  eye-witness  to  the\n",
    "\n",
    "crime. The prosecution sought to bring home the guilt of the accused on the basis\n",
    "2\n",
    "\n",
    "\n",
    "of  circumstantial  evidence  which  have  been\n",
    "\n",
    "set  out  by  the  High  court  in  the  impugned\n",
    "\n",
    "order in seriatim which is extracted below:\n",
    "\n",
    "\n",
    "\n",
    "\n",
    "“1. Appellant Harcharan Singh had been disinherited by his parents vide public notice Ex.-P26. Mrs. Surinder Kaur had also sworn an affidavit (Ex.P25) to that effect.\n",
    "\n",
    "\n",
    "\n",
    "2. Appellant had been proceeded against in the security proceedings at the instance of his mother and, vide order dated 10.04.1986 (Ex.-P24), he had been bound down for breach of peace.\n",
    "\n",
    "    3. Appellant Harcharan Singh had no understandable reason to visit his parents after 8/9 years, particularly when he was the lone visitor and he had stayed over a fortnight.\n",
    "\n",
    "    4. He is proved to have been wearing a white Kurta and Pajama when he was last seen on the preceding night by Kamaljit Kaur PW-2. However, he was only in an underwear when he went over to the adjacent house of Kamaljit Kaur PW-2 at 1.30 AM to intimate that some unknown person had attacked their parents. The blood stained clothes aforementioned were, later on, got recovered by appellant,\n",
    "3\n",
    "\n",
    "\n",
    "Harcharan Singh, in pursuance of a disclosure statement.\n",
    "\n",
    "    5. Appellant Ramesh Kumar got the recovery of the weapon of offence effected from the house of an aunt of his. Except him, none else could possibly have any inkling about that place of concealment. This circumstances connects appellant Ramesh Kumar with the crime for which he stands convicted.\n",
    "\n",
    "    6. The fact that two co-accused are absconding and did not face the trial is evident from the record.\n",
    "\n",
    "    7. The allegation of motive against Kamaljit Kaur PW-2, her sister and the husband of the latter is too fragile to be accepted. They had to, in any case, get the property of Shamsher Singh on account of the disinheritance of Harcharan Singh appellant by his parents. As a real sister, Kamaljit Kaur would be least interested in losing her only living brother after the murder of her parents and the other brother. Having separated from her husband, she is already distraught woman.”\n",
    "4\n",
    "\n",
    "\n",
    "    3. Except for the recovery of a dagger at the instance of the present accused appellant Ramesh Kumar there is no other\n",
    "\n",
    "incriminating material. The motive attributed for the crime is only qua the\n",
    "\n",
    "accused Harcharan Singh. All other circumstances are relatable to the said accused Harcharan Singh.\n",
    "\n",
    "    4. Recovery  of  dagger  which  can  be\n",
    "\n",
    "reasonably connected with the postmortem report, undoubtedly, is a very strong incriminating circumstance. But it is our considered view that the above, by itself, cannot permit us to arrive at a conclusion, without any error, that it is the accused appellant Ramesh Kumar and nobody else who could have and did commit the crime. A lurking doubt remains in our minds which the accused appellant Ramesh Kumar would be entitled to. We, therefore, allow this\n",
    "5\n",
    "\n",
    "\n",
    "appeal and set aside the order of the High Court as well as the conviction and sentence recorded against the accused appellant Ramesh Kumar who is acquitted on the benefit of doubt. We further direct that the appellant Ramesh Kumar be released from custody forthwith unless his custody is required in connection with any other case.'''"
   ]
  },
  {
   "cell_type": "code",
   "execution_count": 7,
   "metadata": {},
   "outputs": [
    {
     "data": {
      "text/plain": [
       "' 1   IN THE SUPREME COURT OF INDIA  CRIMINAL APPELLATE JURISDICTION  CRIMINAL APPEAL NO(S). 420 OF 2010     RAMESH KUMAR     ...APPELLANT(S)  VERSUS  THE STATE OF PUNJAB     ...RESPONDENT(S)    ORDER      1. Two  (02)  accused  were  convicted  by  the learned trial Court for a triple murder that took place in the intervening night of 2nd/ 3rd August, 2002. The deceased were the father, the mother and the brother of accused Harcharan Singh who has since  withdrawn his appeal. The present appellant Ramesh Kumar was a tenant in the house belonging to the deceased.      2. There  is  no  eye-witness  to  the  crime. The prosecution sought to bring home the guilt of the accused on the basis 2   of  circumstantial  evidence  which  have  been  set  out  by  the  High  court  in  the  impugned  order in seriatim which is extracted below:     “1. Appellant Harcharan Singh had been disinherited by his parents vide public notice Ex.-P26. Mrs. Surinder Kaur had also sworn an affidavit (Ex.P25) to that effect.    2. Appellant had been proceeded against in the security proceedings at the instance of his mother and, vide order dated 10.04.1986 (Ex.-P24), he had been bound down for breach of peace.      3. Appellant Harcharan Singh had no understandable reason to visit his parents after 8/9 years, particularly when he was the lone visitor and he had stayed over a fortnight.      4. He is proved to have been wearing a white Kurta and Pajama when he was last seen on the preceding night by Kamaljit Kaur (PW)-2. However, he was only in an underwear when he went over to the adjacent house of Kamaljit Kaur (PW)-2 at 1.30 AM to intimate that some unknown person had attacked their parents. The blood stained clothes aforementioned were, later on, got recovered by appellant, 3   Harcharan Singh, in pursuance of a disclosure statement.      5. Appellant Ramesh Kumar got the recovery of the weapon of offence effected from the house of an aunt of his. Except him, none else could possibly have any inkling about that place of concealment. This circumstances connects appellant Ramesh Kumar with the crime for which he stands convicted.      6. The fact that two co-accused are absconding and did not face the trial is evident from the record.      7. The allegation of motive against Kamaljit Kaur (PW)-2, her sister and the husband of the latter is too fragile to be accepted. They had to, in any case, get the property of Shamsher Singh on account of the disinheritance of Harcharan Singh appellant by his parents. As a real sister, Kamaljit Kaur would be least interested in losing her only living brother after the murder of her parents and the other brother. Having separated from her husband, she is already distraught woman.” 4       3. Except for the recovery of a dagger at the instance of the present accused appellant Ramesh Kumar there is no other  incriminating material. The motive attributed for the crime is only qua the  accused Harcharan Singh. All other circumstances are relatable to the said accused Harcharan Singh.      4. Recovery  of  dagger  which  can  be  reasonably connected with the postmortem report, undoubtedly, is a very strong incriminating circumstance. But it is our considered view that the above, by itself, cannot permit us to arrive at a conclusion, without any error, that it is the accused appellant Ramesh Kumar and nobody else who could have and did commit the crime. A lurking doubt remains in our minds which the accused appellant Ramesh Kumar would be entitled to. We, therefore, allow this 5   appeal and set aside the order of the High Court as well as the conviction and sentence recorded against the accused appellant Ramesh Kumar who is acquitted on the benefit of doubt. We further direct that the appellant Ramesh Kumar be released from custody forthwith unless his custody is required in connection with any other case.'"
      ]
     },
     "execution_count": 7,
     "metadata": {},
     "output_type": "execute_result"
    }
   ],
   "source": [
    "text1 = text1.replace('\\n', ' ')\n",
    "text1 = text1.replace('PW','(PW)')\n",
    "flag = False\n",
    "if 'accused-appellant' in text1 or 'accused appellant' in text1:\n",
    "    flag = True\n",
    "\n",
    "text1"
   ]
  },
  {
   "cell_type": "code",
   "execution_count": 8,
   "metadata": {},
   "outputs": [],
   "source": [
    "sNLP = StanfordNLP()\n",
    "tagg = sNLP.ner(text1)\n",
    "names = []\n",
    "from itertools import groupby\n",
    "for tag, chunk in groupby(tagg, lambda x:x[1]):\n",
    "    if tag == \"PERSON\":\n",
    "        k = \" \".join(w for w, t in chunk)\n",
    "        names.append(k.lower())\n",
    "names = list(set(names))"
   ]
  },
  {
   "cell_type": "code",
   "execution_count": 9,
   "metadata": {},
   "outputs": [],
   "source": [
    "names = substringSieve(names)"
   ]
  },
  {
   "cell_type": "code",
   "execution_count": 10,
   "metadata": {},
   "outputs": [],
   "source": [
    "text1 = text1.lower()"
   ]
  },
  {
   "cell_type": "code",
   "execution_count": 11,
   "metadata": {},
   "outputs": [
    {
     "data": {
      "text/plain": [
       "['harcharan singh',\n",
       " 'shamsher singh',\n",
       " 'surinder kaur',\n",
       " 'kamaljit kaur',\n",
       " 'ramesh kumar']"
      ]
     },
     "execution_count": 11,
     "metadata": {},
     "output_type": "execute_result"
    }
   ],
   "source": [
    "names"
   ]
  },
  {
   "cell_type": "code",
   "execution_count": 12,
   "metadata": {},
   "outputs": [],
   "source": [
    "from nltk.tokenize import sent_tokenize, word_tokenize"
   ]
  },
  {
   "cell_type": "code",
   "execution_count": 13,
   "metadata": {},
   "outputs": [
    {
     "data": {
      "text/plain": [
       "{'harcharan singh': 'x0',\n",
       " 'kamaljit kaur': 'x3',\n",
       " 'ramesh kumar': 'x4',\n",
       " 'shamsher singh': 'x1',\n",
       " 'surinder kaur': 'x2'}"
      ]
     },
     "execution_count": 13,
     "metadata": {},
     "output_type": "execute_result"
    }
   ],
   "source": [
    "nameSub = {}\n",
    "subs = []\n",
    "c=0\n",
    "for i in names:\n",
    "    nameSub[i] = 'x'+str(c)\n",
    "    c+=1\n",
    "    subs.append(nameSub[i])\n",
    "\n",
    "nameSub"
   ]
  },
  {
   "cell_type": "code",
   "execution_count": 14,
   "metadata": {},
   "outputs": [
    {
     "data": {
      "text/plain": [
       "' 1   in the supreme court of india  criminal appellate jurisdiction  criminal appeal no(s). 420 of 2010     x4     ...appellant(s)  versus  the state of punjab     ...respondent(s)    order      1. two  (02)  accused  were  convicted  by  the learned trial court for a triple murder that took place in the intervening night of 2nd/ 3rd august, 2002. the deceased were the father, the mother and the brother of accused x0 who has since  withdrawn his appeal. the present appellant x4 was a tenant in the house belonging to the deceased.      2. there  is  no  eye-witness  to  the  crime. the prosecution sought to bring home the guilt of the accused on the basis 2   of  circumstantial  evidence  which  have  been  set  out  by  the  high  court  in  the  impugned  order in seriatim which is extracted below:     “1. appellant x0 had been disinherited by his parents vide public notice ex.-p26. mrs. x2 had also sworn an affidavit (ex.p25) to that effect.    2. appellant had been proceeded against in the security proceedings at the instance of his mother and, vide order dated 10.04.1986 (ex.-p24), he had been bound down for breach of peace.      3. appellant x0 had no understandable reason to visit his parents after 8/9 years, particularly when he was the lone visitor and he had stayed over a fortnight.      4. he is proved to have been wearing a white kurta and pajama when he was last seen on the preceding night by x3 (pw)-2. however, he was only in an underwear when he went over to the adjacent house of x3 (pw)-2 at 1.30 am to intimate that some unknown person had attacked their parents. the blood stained clothes aforementioned were, later on, got recovered by appellant, 3   x0, in pursuance of a disclosure statement.      5. appellant x4 got the recovery of the weapon of offence effected from the house of an aunt of his. except him, none else could possibly have any inkling about that place of concealment. this circumstances connects appellant x4 with the crime for which he stands convicted.      6. the fact that two co-accused are absconding and did not face the trial is evident from the record.      7. the allegation of motive against x3 (pw)-2, her sister and the husband of the latter is too fragile to be accepted. they had to, in any case, get the property of x1 on account of the disinheritance of x0 appellant by his parents. as a real sister, x3 would be least interested in losing her only living brother after the murder of her parents and the other brother. having separated from her husband, she is already distraught woman.” 4       3. except for the recovery of a dagger at the instance of the present accused appellant x4 there is no other  incriminating material. the motive attributed for the crime is only qua the  accused x0. all other circumstances are relatable to the said accused x0.      4. recovery  of  dagger  which  can  be  reasonably connected with the postmortem report, undoubtedly, is a very strong incriminating circumstance. but it is our considered view that the above, by itself, cannot permit us to arrive at a conclusion, without any error, that it is the accused appellant x4 and nobody else who could have and did commit the crime. a lurking doubt remains in our minds which the accused appellant x4 would be entitled to. we, therefore, allow this 5   appeal and set aside the order of the high court as well as the conviction and sentence recorded against the accused appellant x4 who is acquitted on the benefit of doubt. we further direct that the appellant x4 be released from custody forthwith unless his custody is required in connection with any other case.'"
      ]
     },
     "execution_count": 14,
     "metadata": {},
     "output_type": "execute_result"
    }
   ],
   "source": [
    "for i in names:\n",
    "    text1 = text1.replace(i,nameSub[i])\n",
    "text1 = text1.lower()\n",
    "text1"
   ]
  },
  {
   "cell_type": "code",
   "execution_count": 15,
   "metadata": {},
   "outputs": [
    {
     "data": {
      "text/plain": [
       "['420 of 2010     x4     ...appellant(s)  versus  the state of punjab     ...respondent(s)    order      1. two  (02)  accused  were  convicted  by  the learned trial court for a triple murder that took place in the intervening night of 2nd/ 3rd august, 2002. the deceased were the father, the mother and the brother of accused x0 who has since  withdrawn his appeal.',\n",
       " 'the present appellant x4 was a tenant in the house belonging to the deceased.']"
      ]
     },
     "execution_count": 15,
     "metadata": {},
     "output_type": "execute_result"
    }
   ],
   "source": [
    "acc_app = []\n",
    "t1 = sent_tokenize(text1)\n",
    "for i in t1:\n",
    "    if 'accused' in i or 'appellant' in i:\n",
    "        acc_app.append(i)\n",
    "acc_app\n",
    "\n",
    "pw = []\n",
    "t1 = sent_tokenize(text1)\n",
    "for i in t1:\n",
    "    if 'pw' in i:\n",
    "        pw.append(i)\n",
    "pw\n",
    "\n",
    "\n",
    "vict = []\n",
    "t1 = sent_tokenize(text1)\n",
    "for i in t1:\n",
    "    if 'deceased' in i:\n",
    "        vict.append(i)\n",
    "vict"
   ]
  },
  {
   "cell_type": "code",
   "execution_count": 16,
   "metadata": {},
   "outputs": [
    {
     "data": {
      "text/plain": [
       "['4. he is proved to have been wearing a white kurta and pajama when he was last seen on the preceding night by x3 (pw)-2. however, he was only in an underwear when he went over to the adjacent house of x3 (pw)-2 at 1.30 am to intimate that some unknown person had attacked their parents.',\n",
       " '7. the allegation of motive against x3 (pw)-2, her sister and the husband of the latter is too fragile to be accepted.']"
      ]
     },
     "execution_count": 16,
     "metadata": {},
     "output_type": "execute_result"
    }
   ],
   "source": [
    "pw"
   ]
  },
  {
   "cell_type": "code",
   "execution_count": 17,
   "metadata": {},
   "outputs": [
    {
     "data": {
      "text/plain": [
       "['420 of 2010     x4     ...appellant(s)  versus  the state of punjab     ...respondent(s)    order      1. two  (02)  accused  were  convicted  by  the learned trial court for a triple murder that took place in the intervening night of 2nd/ 3rd august, 2002. the deceased were the father, the mother and the brother of accused x0 who has since  withdrawn his appeal.',\n",
       " 'the present appellant x4 was a tenant in the house belonging to the deceased.',\n",
       " 'the prosecution sought to bring home the guilt of the accused on the basis 2   of  circumstantial  evidence  which  have  been  set  out  by  the  high  court  in  the  impugned  order in seriatim which is extracted below:     “1.',\n",
       " 'appellant x0 had been disinherited by his parents vide public notice ex.-p26.',\n",
       " '2. appellant had been proceeded against in the security proceedings at the instance of his mother and, vide order dated 10.04.1986 (ex.-p24), he had been bound down for breach of peace.',\n",
       " '3. appellant x0 had no understandable reason to visit his parents after 8/9 years, particularly when he was the lone visitor and he had stayed over a fortnight.',\n",
       " 'the blood stained clothes aforementioned were, later on, got recovered by appellant, 3   x0, in pursuance of a disclosure statement.',\n",
       " '5. appellant x4 got the recovery of the weapon of offence effected from the house of an aunt of his.',\n",
       " 'this circumstances connects appellant x4 with the crime for which he stands convicted.',\n",
       " '6. the fact that two co-accused are absconding and did not face the trial is evident from the record.',\n",
       " 'they had to, in any case, get the property of x1 on account of the disinheritance of x0 appellant by his parents.',\n",
       " 'having separated from her husband, she is already distraught woman.” 4       3. except for the recovery of a dagger at the instance of the present accused appellant x4 there is no other  incriminating material.',\n",
       " 'the motive attributed for the crime is only qua the  accused x0.',\n",
       " 'all other circumstances are relatable to the said accused x0.',\n",
       " 'but it is our considered view that the above, by itself, cannot permit us to arrive at a conclusion, without any error, that it is the accused appellant x4 and nobody else who could have and did commit the crime.',\n",
       " 'a lurking doubt remains in our minds which the accused appellant x4 would be entitled to.',\n",
       " 'we, therefore, allow this 5   appeal and set aside the order of the high court as well as the conviction and sentence recorded against the accused appellant x4 who is acquitted on the benefit of doubt.',\n",
       " 'we further direct that the appellant x4 be released from custody forthwith unless his custody is required in connection with any other case.']"
      ]
     },
     "execution_count": 17,
     "metadata": {},
     "output_type": "execute_result"
    }
   ],
   "source": [
    "acc_app"
   ]
  },
  {
   "cell_type": "code",
   "execution_count": 18,
   "metadata": {},
   "outputs": [],
   "source": [
    "accused = []\n",
    "witness = []\n",
    "victim = []\n",
    "punct = ['.',',','@','(',')','/','...','-','–']\n",
    "a = '–'\n",
    "for j in acc_app:\n",
    "    for i in punct:\n",
    "        j = j.replace(i,'')\n",
    "    words = word_tokenize(j)\n",
    "    if flag:\n",
    "        for i in range(len(words)):\n",
    "            try:\n",
    "                if words[i] == 'accused' or words[i] == 'appellants' or words[i] == 'accusedappellant' or words[i] == 'appellant':\n",
    "                    if words[i-1] in subs:\n",
    "                        accused.append(words[i-1])\n",
    "                    elif words[i+1] in subs:\n",
    "                        accused.append(words[i+1])\n",
    "            except Exception as e:\n",
    "                pass\n",
    "    else:\n",
    "        for i in range(len(words)):\n",
    "            if words[i] == 'accused':\n",
    "                try:\n",
    "                    if words[i-1] in subs:\n",
    "                        accused.append(words[i-1])\n",
    "                    elif words[i+1] in subs:\n",
    "                        accused.append(words[i+1])\n",
    "                        temp = i+2\n",
    "                        flag = 0\n",
    "                        try:\n",
    "                            while words[temp] != 'and':\n",
    "                                if words[temp] in subs:\n",
    "                                    accused.append(words[temp])\n",
    "                                    temp += 1\n",
    "                                else:\n",
    "                                    flag = 1\n",
    "                                    break\n",
    "                            if flag == 0:\n",
    "                                accused.append(words[temp+1])\n",
    "                        except Exception as e:\n",
    "                            pass\n",
    "                except Exception as e:\n",
    "                    pass\n",
    "accused = list(set(accused))"
   ]
  },
  {
   "cell_type": "code",
   "execution_count": 19,
   "metadata": {},
   "outputs": [
    {
     "name": "stdout",
     "output_type": "stream",
     "text": [
      "4  he is proved to have been wearing a white kurta and pajama when he was last seen on the preceding night by x3  pw  2  however  he was only in an underwear when he went over to the adjacent house of x3  pw  2 at 1 30 am to intimate that some unknown person had attacked their parents \n",
      "7  the allegation of motive against x3  pw  2  her sister and the husband of the latter is too fragile to be accepted \n"
     ]
    },
    {
     "data": {
      "text/plain": [
       "['x3']"
      ]
     },
     "execution_count": 19,
     "metadata": {},
     "output_type": "execute_result"
    }
   ],
   "source": [
    "witness = []\n",
    "victim = []\n",
    "punct = ['.',',','@','(',')','/','...','-','–']\n",
    "for j in pw:\n",
    "    for i in punct:\n",
    "        j = j.replace(i,' ')\n",
    "    words = word_tokenize(j)\n",
    "    print(j)\n",
    "    \n",
    "    for i in range(len(words)):\n",
    "        if 'pw' in words[i]:\n",
    "            try:\n",
    "                if words[i+1] ==  'a':\n",
    "                    if words[i+2] in subs:\n",
    "                        witness.append(words[i+2])\n",
    "\n",
    "                if words[i-1] in subs:\n",
    "                    witness.append(words[i-1])\n",
    "                elif words[i+1] in subs:\n",
    "                    witness.append(words[i+1])\n",
    "            except Exception as E:\n",
    "                pass\n",
    "witness = list(set(witness))\n",
    "witness"
   ]
  },
  {
   "cell_type": "code",
   "execution_count": 20,
   "metadata": {},
   "outputs": [
    {
     "data": {
      "text/plain": [
       "['x3']"
      ]
     },
     "execution_count": 20,
     "metadata": {},
     "output_type": "execute_result"
    }
   ],
   "source": [
    "witness"
   ]
  },
  {
   "cell_type": "code",
   "execution_count": 21,
   "metadata": {},
   "outputs": [
    {
     "name": "stdout",
     "output_type": "stream",
     "text": [
      "kamaljit kaur\n"
     ]
    }
   ],
   "source": [
    "for key, value in nameSub.items():\n",
    "    for i in witness:\n",
    "        if i== value:\n",
    "            print(key)"
   ]
  },
  {
   "cell_type": "code",
   "execution_count": 22,
   "metadata": {},
   "outputs": [
    {
     "name": "stdout",
     "output_type": "stream",
     "text": [
      "harcharan singh\n",
      "ramesh kumar\n"
     ]
    }
   ],
   "source": [
    "for key, value in nameSub.items():\n",
    "    for i in accused:\n",
    "        if i== value:\n",
    "            print(key)"
   ]
  },
  {
   "cell_type": "code",
   "execution_count": 23,
   "metadata": {},
   "outputs": [
    {
     "data": {
      "text/plain": [
       "{'harcharan singh': 'x0',\n",
       " 'kamaljit kaur': 'x3',\n",
       " 'ramesh kumar': 'x4',\n",
       " 'shamsher singh': 'x1',\n",
       " 'surinder kaur': 'x2'}"
      ]
     },
     "execution_count": 23,
     "metadata": {},
     "output_type": "execute_result"
    }
   ],
   "source": [
    "nameSub"
   ]
  },
  {
   "cell_type": "code",
   "execution_count": 24,
   "metadata": {},
   "outputs": [
    {
     "data": {
      "text/plain": [
       "[]"
      ]
     },
     "execution_count": 24,
     "metadata": {},
     "output_type": "execute_result"
    }
   ],
   "source": [
    "victims = []\n",
    "punct = ['.',',','@','(',')','/','...','-','–']\n",
    "for j in vict:\n",
    "    for i in punct:\n",
    "        j = j.replace(i,' ')\n",
    "    words = word_tokenize(j)\n",
    "#     print(words)  \n",
    "    for i in range(len(words)):\n",
    "        if 'deceased' in words[i]:\n",
    "            try:\n",
    "                if words[i-1] in subs:\n",
    "                    victims.append(words[i-1])\n",
    "                elif words[i+1] in subs:\n",
    "                    victims.append(words[i+1])\n",
    "            except Exception as E:\n",
    "                pass\n",
    "victims = list(set(victims))\n",
    "victims"
   ]
  },
  {
   "cell_type": "code",
   "execution_count": 25,
   "metadata": {},
   "outputs": [],
   "source": [
    "# import spacy\n",
    "# import en_coref_lg\n",
    "\n",
    "# nlp = en_coref_lg.load()\n",
    "# doc = nlp(text1)\n",
    "\n",
    "# doc._.has_coref\n",
    "# doc._.coref_clusters\n"
   ]
  },
  {
   "cell_type": "code",
   "execution_count": 26,
   "metadata": {},
   "outputs": [],
   "source": [
    "import numpy as np\n",
    "import pandas as pd\n",
    "#from tqdm import tqdm\n",
    "#tqdm.pandas()\n",
    "np.random.seed(7)\n",
    "\n",
    "import tensorflow as tf\n",
    "import string\n",
    "import re"
   ]
  },
  {
   "cell_type": "code",
   "execution_count": 27,
   "metadata": {},
   "outputs": [],
   "source": [
    "load_model = tf.keras.models.load_model\n",
    "adam = tf.keras.optimizers.Adam(lr=1e-3)\n",
    "alphabet_list = list(string.ascii_lowercase)\n",
    "max_name_len = 20\n"
   ]
  },
  {
   "cell_type": "code",
   "execution_count": 28,
   "metadata": {},
   "outputs": [],
   "source": [
    "def string_vectorizer(strng, alphabet, max_str_len=20, gender=True):\n",
    "    if(gender):\n",
    "        strng = re.sub(r\"[^a-z]+\", \"\", strng.lower())\n",
    "    else:\n",
    "        strng = re.sub(r\"[^a-zA-z0-9-]+\", \"\", strng)\n",
    "    vector = [[0 if char != letter else 1 for char in alphabet] for letter in strng[0:max_str_len]]\n",
    "    while len(vector) != max_str_len:\n",
    "        vector = [*vector, [0 for char in alphabet]]\n",
    "    return np.array(vector)\n"
   ]
  },
  {
   "cell_type": "code",
   "execution_count": 29,
   "metadata": {},
   "outputs": [],
   "source": [
    "gendermodel = load_model(\"gendermodel.h5\")\n",
    "gendermodel.load_weights(\"genderweights.h5\")\n",
    "gendermodel.compile(loss='categorical_crossentropy', optimizer=adam, metrics=['accuracy'])"
   ]
  },
  {
   "cell_type": "code",
   "execution_count": 30,
   "metadata": {},
   "outputs": [],
   "source": [
    "male = ['John','Adam', 'Tom','Henry','Harry','Oliver','Jack','Jacob','Noah','Charlie','Thomas','James','Ethan','Joseph','Edward','Logan']\n",
    "female = ['Sophia','Emily','Lily','Olivia','Amelia','Isla','Isabella','Ava','Sophie','Chloe','Isabelle','Ella','Poppy','Mia','Evie','Jessica','Charlotte','Grace','Emma','Alice','Ruby','Eva','Freya','Molly','Scarlett','Lucy','Abigail','Phoebe','Nurnew','Daisy','Elizabeth','Hannah','Florence','Rosie','Holly','Millie','Annabelle','Jasmine','Imogen','Georgia']\n",
    "m = 0 \n",
    "f = 0"
   ]
  },
  {
   "cell_type": "code",
   "execution_count": 31,
   "metadata": {},
   "outputs": [],
   "source": [
    "def replaceName(names,m,f):\n",
    "    names = pd.Series(names)\n",
    "    names_transform = names.apply(lambda name: string_vectorizer(name, alphabet_list, max_name_len).reshape(1, 20, 26))\n",
    "    names_transform = np.vstack(names_transform.tolist())\n",
    "    prediction = gendermodel.predict(names_transform)\n",
    "    prediction = [[int(pred[0]*100)/100, int(pred[1]*100)/100] for pred in prediction]\n",
    "    if prediction[0][1] > prediction[0][0]:\n",
    "        newName = female[f]\n",
    "        f += 1\n",
    "    else:\n",
    "        newName = male[m]\n",
    "        m += 1\n",
    "    return newName,m,f"
   ]
  },
  {
   "cell_type": "code",
   "execution_count": 32,
   "metadata": {},
   "outputs": [
    {
     "data": {
      "text/plain": [
       "' 1   in the supreme court of india  criminal appellate jurisdiction  criminal appeal no(s). 420 of 2010     Tom     ...appellant(s)  versus  the state of punjab     ...respondent(s)    order      1. two  (02)  accused  were  convicted  by  the learned trial court for a triple murder that took place in the intervening night of 2nd/ 3rd august, 2002. the deceased were the father, the mother and the brother of accused John who has since  withdrawn his appeal. the present appellant Tom was a tenant in the house belonging to the deceased.      2. there  is  no  eye-witness  to  the  crime. the prosecution sought to bring home the guilt of the accused on the basis 2   of  circumstantial  evidence  which  have  been  set  out  by  the  high  court  in  the  impugned  order in seriatim which is extracted below:     “1. appellant John had been disinherited by his parents vide public notice ex.-p26. mrs. Sophia had also sworn an affidavit (ex.p25) to that effect.    2. appellant had been proceeded against in the security proceedings at the instance of his mother and, vide order dated 10.04.1986 (ex.-p24), he had been bound down for breach of peace.      3. appellant John had no understandable reason to visit his parents after 8/9 years, particularly when he was the lone visitor and he had stayed over a fortnight.      4. he is proved to have been wearing a white kurta and pajama when he was last seen on the preceding night by Emily (pw)-2. however, he was only in an underwear when he went over to the adjacent house of Emily (pw)-2 at 1.30 am to intimate that some unknown person had attacked their parents. the blood stained clothes aforementioned were, later on, got recovered by appellant, 3   John, in pursuance of a disclosure statement.      5. appellant Tom got the recovery of the weapon of offence effected from the house of an aunt of his. except him, none else could possibly have any inkling about that place of concealment. this circumstances connects appellant Tom with the crime for which he stands convicted.      6. the fact that two co-accused are absconding and did not face the trial is evident from the record.      7. the allegation of motive against Emily (pw)-2, her sister and the husband of the latter is too fragile to be accepted. they had to, in any case, get the property of Adam on account of the disinheritance of John appellant by his parents. as a real sister, Emily would be least interested in losing her only living brother after the murder of her parents and the other brother. having separated from her husband, she is already distraught woman.” 4       3. except for the recovery of a dagger at the instance of the present accused appellant Tom there is no other  incriminating material. the motive attributed for the crime is only qua the  accused John. all other circumstances are relatable to the said accused John.      4. recovery  of  dagger  which  can  be  reasonably connected with the postmortem report, undoubtedly, is a very strong incriminating circumstance. but it is our considered view that the above, by itself, cannot permit us to arrive at a conclusion, without any error, that it is the accused appellant Tom and nobody else who could have and did commit the crime. a lurking doubt remains in our minds which the accused appellant Tom would be entitled to. we, therefore, allow this 5   appeal and set aside the order of the high court as well as the conviction and sentence recorded against the accused appellant Tom who is acquitted on the benefit of doubt. we further direct that the appellant Tom be released from custody forthwith unless his custody is required in connection with any other case.'"
      ]
     },
     "execution_count": 32,
     "metadata": {},
     "output_type": "execute_result"
    }
   ],
   "source": [
    "# n,m,f = replaceName(['Miloni Joshi'],m,f)\n",
    "newNames = {}\n",
    "for i in names:\n",
    "    n,m,f = replaceName([i],m,f)\n",
    "    newNames[i] = n\n",
    "    text1 = text1.replace(nameSub[i],n)\n",
    "text1"
   ]
  },
  {
   "cell_type": "code",
   "execution_count": 33,
   "metadata": {},
   "outputs": [
    {
     "data": {
      "text/plain": [
       "{'harcharan singh': 'John',\n",
       " 'kamaljit kaur': 'Emily',\n",
       " 'ramesh kumar': 'Tom',\n",
       " 'shamsher singh': 'Adam',\n",
       " 'surinder kaur': 'Sophia'}"
      ]
     },
     "execution_count": 33,
     "metadata": {},
     "output_type": "execute_result"
    }
   ],
   "source": [
    "newNames"
   ]
  },
  {
   "cell_type": "code",
   "execution_count": 34,
   "metadata": {},
   "outputs": [],
   "source": [
    "def preprocess(text):\n",
    "    text = text.split('order')\n",
    "    "
   ]
  },
  {
   "cell_type": "code",
   "execution_count": 35,
   "metadata": {},
   "outputs": [
    {
     "data": {
      "text/plain": [
       "' 1 in the supreme court of india criminal appellate jurisdiction criminal appeal no(s). 420 of 2010 Tom ...appellant(s) versus the state of punjab ...respondent(s) order 1. two (02) accused were convicted by the learned trial court for a triple murder that took place in the intervening night of 2nd/ 3rd august, 2002. the deceased were the father, the mother and the brother of accused John who has since withdrawn his appeal. the present appellant Tom was a tenant in the house belonging to the deceased. 2. there is no eye-witness to the crime. the prosecution sought to bring home the guilt of the accused on the basis 2 of circumstantial evidence which have been set out by the high court in the impugned order in seriatim which is extracted below: “1. appellant John had been disinherited by his parents vide public notice ex.-p26. mrs. Sophia had also sworn an affidavit (ex.p25) to that effect. 2. appellant had been proceeded against in the security proceedings at the instance of his mother and, vide order dated 10.04.1986 (ex.-p24), he had been bound down for breach of peace. 3. appellant John had no understandable reason to visit his parents after 8/9 years, particularly when he was the lone visitor and he had stayed over a fortnight. 4. he is proved to have been wearing a white kurta and pajama when he was last seen on the preceding night by Emily (pw)-2. however, he was only in an underwear when he went over to the adjacent house of Emily (pw)-2 at 1.30 am to intimate that some unknown person had attacked their parents. the blood stained clothes aforementioned were, later on, got recovered by appellant, 3 John, in pursuance of a disclosure statement. 5. appellant Tom got the recovery of the weapon of offence effected from the house of an aunt of his. except him, none else could possibly have any inkling about that place of concealment. this circumstances connects appellant Tom with the crime for which he stands convicted. 6. the fact that two co-accused are absconding and did not face the trial is evident from the record. 7. the allegation of motive against Emily (pw)-2, her sister and the husband of the latter is too fragile to be accepted. they had to, in any case, get the property of Adam on account of the disinheritance of John appellant by his parents. as a real sister, Emily would be least interested in losing her only living brother after the murder of her parents and the other brother. having separated from her husband, she is already distraught woman.” 4 3. except for the recovery of a dagger at the instance of the present accused appellant Tom there is no other incriminating material. the motive attributed for the crime is only qua the accused John. all other circumstances are relatable to the said accused John. 4. recovery of dagger which can be reasonably connected with the postmortem report, undoubtedly, is a very strong incriminating circumstance. but it is our considered view that the above, by itself, cannot permit us to arrive at a conclusion, without any error, that it is the accused appellant Tom and nobody else who could have and did commit the crime. a lurking doubt remains in our minds which the accused appellant Tom would be entitled to. we, therefore, allow this 5 appeal and set aside the order of the high court as well as the conviction and sentence recorded against the accused appellant Tom who is acquitted on the benefit of doubt. we further direct that the appellant Tom be released from custody forthwith unless his custody is required in connection with any other case.'"
      ]
     },
     "execution_count": 35,
     "metadata": {},
     "output_type": "execute_result"
    }
   ],
   "source": [
    "import re\n",
    "text1 = re.sub(' +',' ',text1)\n",
    "text1"
   ]
  },
  {
   "cell_type": "code",
   "execution_count": 36,
   "metadata": {},
   "outputs": [],
   "source": [
    "impText = text1.split('...respondent(s) order')[1]"
   ]
  },
  {
   "cell_type": "code",
   "execution_count": 37,
   "metadata": {},
   "outputs": [
    {
     "name": "stdout",
     "output_type": "stream",
     "text": [
      "John\n",
      "Sophia\n",
      "Emily\n",
      "Adam\n",
      "Tom\n"
     ]
    }
   ],
   "source": [
    "for i in newNames.values():\n",
    "    print(i)"
   ]
  },
  {
   "cell_type": "code",
   "execution_count": 38,
   "metadata": {},
   "outputs": [],
   "source": [
    "import spacy\n",
    "import en_coref_lg\n",
    "spacy.tokens.token.Token.set_extension('transient', default='')\n",
    "\n",
    "nlp = en_coref_lg.load()\n",
    "doc = nlp(impText)\n",
    "\n",
    "doc._.has_coref\n",
    "doc._.coref_clusters\n",
    "arr = []\n",
    "for k in doc:\n",
    "    arr.append(str(k))\n"
   ]
  },
  {
   "cell_type": "code",
   "execution_count": 39,
   "metadata": {},
   "outputs": [
    {
     "data": {
      "text/plain": [
       "[John: [John, his, John, his, his, he],\n",
       " John: [John, his, he, he, he, he, he, he],\n",
       " some unknown person: [some unknown person, their],\n",
       " appellant Tom: [appellant Tom, his, him],\n",
       " Tom: [Tom, he],\n",
       " Emily: [Emily, her, Emily, her, her, her, she],\n",
       " Emily (pw)-2, her sister and the husband of the latter: [Emily (pw)-2, her sister and the husband of the latter, they],\n",
       " John: [John, his],\n",
       " John: [John, John],\n",
       " it: [it, itself],\n",
       " our: [our, us],\n",
       " our: [our, we, we],\n",
       " the accused appellant Tom: [the accused appellant Tom, the appellant Tom, his]]"
      ]
     },
     "execution_count": 39,
     "metadata": {},
     "output_type": "execute_result"
    }
   ],
   "source": [
    "doc._.coref_clusters"
   ]
  },
  {
   "cell_type": "code",
   "execution_count": 40,
   "metadata": {},
   "outputs": [
    {
     "data": {
      "text/plain": [
       "(281, 'their')"
      ]
     },
     "execution_count": 40,
     "metadata": {},
     "output_type": "execute_result"
    }
   ],
   "source": [
    "doc._.coref_clusters[2].mentions[1].start, arr[281]"
   ]
  },
  {
   "cell_type": "code",
   "execution_count": 41,
   "metadata": {},
   "outputs": [],
   "source": [
    "for j in doc._.coref_clusters:\n",
    "    for k in j.mentions:\n",
    "        arr[k.start:k.end] = [str(j.mentions[0])] + (k.end - k.start - 1) * ['']"
   ]
  },
  {
   "cell_type": "code",
   "execution_count": 42,
   "metadata": {},
   "outputs": [],
   "source": [
    "s = \"\"\n",
    "punct = ['.',',','@',')','/','...','-','–']\n",
    "for i in range(0,len(arr)):\n",
    "    s += arr[i]\n",
    "    if (arr[i].isdigit() and arr[i+1] == \".\") :\n",
    "        pass\n",
    "    else:\n",
    "        s += \" \"\n",
    "    if arr[i] in punct:\n",
    "        if s[-3] == ' ':\n",
    "            s = s[0 : -3]\n",
    "            s+=arr[i]+ \" \"\n",
    "    if arr[i] == '“':\n",
    "        i += 2"
   ]
  },
  {
   "cell_type": "code",
   "execution_count": 43,
   "metadata": {
    "scrolled": false
   },
   "outputs": [
    {
     "data": {
      "text/plain": [
       "{'Adam': '7. the allegation of motive against Emily (pw)-2, her sister and the husband of the latter is too fragile to be accepted. ',\n",
       " 'Emily': 'they had to, in any case, get the property of Adam on account of the disinheritance of John appellant by his parents. 7. the allegation of motive against Emily (pw)-2, her sister and the husband of the latter is too fragile to be accepted. 4. he is proved to have been wearing a white kurta and pajama when he was last seen on the preceding night by Emily (pw)-2. however, he was only in an underwear when he went over to the adjacent house of Emily (pw)-2 at 1.30 am to intimate that some unknown person had attacked their parents. having separated from her husband, she is already distraught woman.” 4 3. except for the recovery of a dagger at the instance of the present accused appellant Tom there is no other incriminating material. as a real sister, Emily would be least interested in losing her only living brother after the murder of her parents and the other brother. ',\n",
       " 'John': 'the prosecution sought to bring home the guilt of the accused on the basis 2 of circumstantial evidence which have been set out by the high court in the impugned order in seriatim which is extracted below: “1. 4. he is proved to have been wearing a white kurta and pajama when he was last seen on the preceding night by Emily (pw)-2. however, he was only in an underwear when he went over to the adjacent house of Emily (pw)-2 at 1.30 am to intimate that some unknown person had attacked their parents. all other circumstances are relatable to the said accused John. the motive attributed for the crime is only qua the accused John. 2. appellant had been proceeded against in the security proceedings at the instance of his mother and, vide order dated 10.04.1986 (ex.-p24), he had been bound down for breach of peace. 7. the allegation of motive against Emily (pw)-2, her sister and the husband of the latter is too fragile to be accepted. 3. appellant John had no understandable reason to visit his parents after 8/9 years, particularly when he was the lone visitor and he had stayed over a fortnight.  1. two (02) accused were convicted by the learned trial court for a triple murder that took place in the intervening night of 2nd/ 3rd august, 2002. the deceased were the father, the mother and the brother of accused John who has since withdrawn his appeal. the blood stained clothes aforementioned were, later on, got recovered by appellant, 3 John, in pursuance of a disclosure statement. ',\n",
       " 'Sophia': 'mrs. Sophia had also sworn an affidavit (ex.p25) to that effect. ',\n",
       " 'Tom': 'except him, none else could possibly have any inkling about that place of concealment. this circumstances connects appellant Tom with the crime for which he stands convicted. a lurking doubt remains in our minds which the accused appellant Tom would be entitled to. but it is our considered view that the above, by itself, cannot permit us to arrive at a conclusion, without any error, that it is the accused appellant Tom and nobody else who could have and did commit the crime. 5. appellant Tom got the recovery of the weapon of offence effected from the house of an aunt of his. having separated from her husband, she is already distraught woman.” 4 3. except for the recovery of a dagger at the instance of the present accused appellant Tom there is no other incriminating material. the present appellant Tom was a tenant in the house belonging to the deceased. we, therefore, allow this 5 appeal and set aside the order of the high court as well as the conviction and sentence recorded against the accused appellant Tom who is acquitted on the benefit of doubt. we further direct that the appellant Tom be released from custody forthwith unless his custody is required in connection with any other case. '}"
      ]
     },
     "execution_count": 43,
     "metadata": {},
     "output_type": "execute_result"
    }
   ],
   "source": [
    "import re\n",
    "impText = re.sub(' +',' ',impText)\n",
    "# s = re.sub('\\d+ \\. ',' ',s)\n",
    "t1 = sent_tokenize(impText)\n",
    "t2 = sent_tokenize(s)\n",
    "\n",
    "action = {}\n",
    "for j in newNames.values():\n",
    "    action[j] = []\n",
    "\n",
    "for i in t2:\n",
    "    for j in newNames.values():\n",
    "        index=\"\"\n",
    "        temp = ''\n",
    "        if j in i:\n",
    "            temp1 = i.split(j)[0]\n",
    "            temp2 = i.split(j)[1]\n",
    "            if len(temp1) > len(temp2):\n",
    "                temp = temp1\n",
    "            else:\n",
    "                temp = temp2\n",
    "            max_counter = -1\n",
    "            for l in t1:\n",
    "                counter = 0\n",
    "                for k in word_tokenize(temp):\n",
    "                    for m in word_tokenize(l):\n",
    "                        if k == m:\n",
    "                            counter += 1\n",
    "                            break\n",
    "                    if counter > max_counter:\n",
    "                        max_counter = counter\n",
    "                        index = l\n",
    "        if index != '':\n",
    "            action[j].append(index)\n",
    "        \n",
    "for key,value in action.items():\n",
    "    action[key] = list(set(value))\n",
    "    a = ''\n",
    "    for j in action[key]:\n",
    "        a+=j+\" \"\n",
    "    action[key] = a\n",
    "action"
   ]
  },
  {
   "cell_type": "code",
   "execution_count": 44,
   "metadata": {},
   "outputs": [
    {
     "data": {
      "text/plain": [
       "['x0', 'x1', 'x2', 'x3', 'x4']"
      ]
     },
     "execution_count": 44,
     "metadata": {},
     "output_type": "execute_result"
    }
   ],
   "source": [
    "subs"
   ]
  },
  {
   "cell_type": "code",
   "execution_count": 45,
   "metadata": {},
   "outputs": [],
   "source": [
    "def substitute_hindi(text):\n",
    "    for i,j in newNames:\n",
    "        text = text.replace(j,i)\n",
    "    return text"
   ]
  },
  {
   "cell_type": "code",
   "execution_count": 46,
   "metadata": {},
   "outputs": [
    {
     "data": {
      "text/plain": [
       "{'harcharan singh': 'John',\n",
       " 'kamaljit kaur': 'Emily',\n",
       " 'ramesh kumar': 'Tom',\n",
       " 'shamsher singh': 'Adam',\n",
       " 'surinder kaur': 'Sophia'}"
      ]
     },
     "execution_count": 46,
     "metadata": {},
     "output_type": "execute_result"
    }
   ],
   "source": [
    "newNames"
   ]
  },
  {
   "cell_type": "code",
   "execution_count": 53,
   "metadata": {},
   "outputs": [],
   "source": [
    "# for k,v in action.items():\n",
    "#     action[k] = substitute_hindi(v)\n",
    "# action"
   ]
  },
  {
   "cell_type": "code",
   "execution_count": 54,
   "metadata": {},
   "outputs": [
    {
     "data": {
      "text/plain": [
       "{'harcharan singh': 'John',\n",
       " 'kamaljit kaur': 'Emily',\n",
       " 'ramesh kumar': 'Tom',\n",
       " 'shamsher singh': 'Adam',\n",
       " 'surinder kaur': 'Sophia'}"
      ]
     },
     "execution_count": 54,
     "metadata": {},
     "output_type": "execute_result"
    }
   ],
   "source": [
    "newNames"
   ]
  },
  {
   "cell_type": "code",
   "execution_count": 58,
   "metadata": {},
   "outputs": [
    {
     "data": {
      "text/plain": [
       "{'Adam': '7. the allegation of motive against Emily (pw)-2, her sister and the husband of the latter is too fragile to be accepted. ',\n",
       " 'Emily': 'they had to, in any case, get the property of Adam on account of the disinheritance of John appellant by his parents. 7. the allegation of motive against Emily (pw)-2, her sister and the husband of the latter is too fragile to be accepted. 4. he is proved to have been wearing a white kurta and pajama when he was last seen on the preceding night by Emily (pw)-2. however, he was only in an underwear when he went over to the adjacent house of Emily (pw)-2 at 1.30 am to intimate that some unknown person had attacked their parents. having separated from her husband, she is already distraught woman.” 4 3. except for the recovery of a dagger at the instance of the present accused appellant Tom there is no other incriminating material. as a real sister, Emily would be least interested in losing her only living brother after the murder of her parents and the other brother. ',\n",
       " 'John': 'the prosecution sought to bring home the guilt of the accused on the basis 2 of circumstantial evidence which have been set out by the high court in the impugned order in seriatim which is extracted below: “1. 4. he is proved to have been wearing a white kurta and pajama when he was last seen on the preceding night by Emily (pw)-2. however, he was only in an underwear when he went over to the adjacent house of Emily (pw)-2 at 1.30 am to intimate that some unknown person had attacked their parents. all other circumstances are relatable to the said accused John. the motive attributed for the crime is only qua the accused John. 2. appellant had been proceeded against in the security proceedings at the instance of his mother and, vide order dated 10.04.1986 (ex.-p24), he had been bound down for breach of peace. 7. the allegation of motive against Emily (pw)-2, her sister and the husband of the latter is too fragile to be accepted. 3. appellant John had no understandable reason to visit his parents after 8/9 years, particularly when he was the lone visitor and he had stayed over a fortnight.  1. two (02) accused were convicted by the learned trial court for a triple murder that took place in the intervening night of 2nd/ 3rd august, 2002. the deceased were the father, the mother and the brother of accused John who has since withdrawn his appeal. the blood stained clothes aforementioned were, later on, got recovered by appellant, 3 John, in pursuance of a disclosure statement. ',\n",
       " 'Sophia': 'mrs. Sophia had also sworn an affidavit (ex.p25) to that effect. ',\n",
       " 'Tom': 'except him, none else could possibly have any inkling about that place of concealment. this circumstances connects appellant Tom with the crime for which he stands convicted. a lurking doubt remains in our minds which the accused appellant Tom would be entitled to. but it is our considered view that the above, by itself, cannot permit us to arrive at a conclusion, without any error, that it is the accused appellant Tom and nobody else who could have and did commit the crime. 5. appellant Tom got the recovery of the weapon of offence effected from the house of an aunt of his. having separated from her husband, she is already distraught woman.” 4 3. except for the recovery of a dagger at the instance of the present accused appellant Tom there is no other incriminating material. the present appellant Tom was a tenant in the house belonging to the deceased. we, therefore, allow this 5 appeal and set aside the order of the high court as well as the conviction and sentence recorded against the accused appellant Tom who is acquitted on the benefit of doubt. we further direct that the appellant Tom be released from custody forthwith unless his custody is required in connection with any other case. '}"
      ]
     },
     "execution_count": 58,
     "metadata": {},
     "output_type": "execute_result"
    }
   ],
   "source": [
    "action"
   ]
  },
  {
   "cell_type": "code",
   "execution_count": 62,
   "metadata": {},
   "outputs": [
    {
     "data": {
      "text/plain": [
       "{'Adam': '7. the allegation of motive against kamaljit kaur (pw)-2, her sister and the husband of the latter is too fragile to be accepted. ',\n",
       " 'Emily': 'they had to, in any case, get the property of shamsher singh on account of the disinheritance of harcharan singh appellant by his parents. 7. the allegation of motive against kamaljit kaur (pw)-2, her sister and the husband of the latter is too fragile to be accepted. 4. he is proved to have been wearing a white kurta and pajama when he was last seen on the preceding night by kamaljit kaur (pw)-2. however, he was only in an underwear when he went over to the adjacent house of kamaljit kaur (pw)-2 at 1.30 am to intimate that some unknown person had attacked their parents. having separated from her husband, she is already distraught woman.” 4 3. except for the recovery of a dagger at the instance of the present accused appellant ramesh kumar there is no other incriminating material. as a real sister, kamaljit kaur would be least interested in losing her only living brother after the murder of her parents and the other brother. ',\n",
       " 'John': 'the prosecution sought to bring home the guilt of the accused on the basis 2 of circumstantial evidence which have been set out by the high court in the impugned order in seriatim which is extracted below: “1. 4. he is proved to have been wearing a white kurta and pajama when he was last seen on the preceding night by kamaljit kaur (pw)-2. however, he was only in an underwear when he went over to the adjacent house of kamaljit kaur (pw)-2 at 1.30 am to intimate that some unknown person had attacked their parents. all other circumstances are relatable to the said accused harcharan singh. the motive attributed for the crime is only qua the accused harcharan singh. 2. appellant had been proceeded against in the security proceedings at the instance of his mother and, vide order dated 10.04.1986 (ex.-p24), he had been bound down for breach of peace. 7. the allegation of motive against kamaljit kaur (pw)-2, her sister and the husband of the latter is too fragile to be accepted. 3. appellant harcharan singh had no understandable reason to visit his parents after 8/9 years, particularly when he was the lone visitor and he had stayed over a fortnight.  1. two (02) accused were convicted by the learned trial court for a triple murder that took place in the intervening night of 2nd/ 3rd august, 2002. the deceased were the father, the mother and the brother of accused harcharan singh who has since withdrawn his appeal. the blood stained clothes aforementioned were, later on, got recovered by appellant, 3 harcharan singh, in pursuance of a disclosure statement. ',\n",
       " 'Sophia': 'mrs. surinder kaur had also sworn an affidavit (ex.p25) to that effect. ',\n",
       " 'Tom': 'except him, none else could possibly have any inkling about that place of concealment. this circumstances connects appellant ramesh kumar with the crime for which he stands convicted. a lurking doubt remains in our minds which the accused appellant ramesh kumar would be entitled to. but it is our considered view that the above, by itself, cannot permit us to arrive at a conclusion, without any error, that it is the accused appellant ramesh kumar and nobody else who could have and did commit the crime. 5. appellant ramesh kumar got the recovery of the weapon of offence effected from the house of an aunt of his. having separated from her husband, she is already distraught woman.” 4 3. except for the recovery of a dagger at the instance of the present accused appellant ramesh kumar there is no other incriminating material. the present appellant ramesh kumar was a tenant in the house belonging to the deceased. we, therefore, allow this 5 appeal and set aside the order of the high court as well as the conviction and sentence recorded against the accused appellant ramesh kumar who is acquitted on the benefit of doubt. we further direct that the appellant ramesh kumar be released from custody forthwith unless his custody is required in connection with any other case. '}"
      ]
     },
     "execution_count": 62,
     "metadata": {},
     "output_type": "execute_result"
    }
   ],
   "source": [
    "for k,v in newNames.items():\n",
    "    for i,j in action.items():\n",
    "        action[i] = j.replace(v,k)"
   ]
  },
  {
   "cell_type": "code",
   "execution_count": 66,
   "metadata": {},
   "outputs": [],
   "source": [
    "\n",
    "actions = {}\n",
    "for i,j in newNames.items():\n",
    "    actions[i] = action[j]"
   ]
  },
  {
   "cell_type": "code",
   "execution_count": 69,
   "metadata": {
    "scrolled": false
   },
   "outputs": [
    {
     "name": "stdout",
     "output_type": "stream",
     "text": [
      "PERSON : harcharan singh\n",
      "the prosecution sought to bring home the guilt of the accused on the basis 2 of circumstantial evidence which have been set out by the high court in the impugned order in seriatim which is extracted below: “1. 4. he is proved to have been wearing a white kurta and pajama when he was last seen on the preceding night by kamaljit kaur (pw)-2. however, he was only in an underwear when he went over to the adjacent house of kamaljit kaur (pw)-2 at 1.30 am to intimate that some unknown person had attacked their parents. all other circumstances are relatable to the said accused harcharan singh. the motive attributed for the crime is only qua the accused harcharan singh. 2. appellant had been proceeded against in the security proceedings at the instance of his mother and, vide order dated 10.04.1986 (ex.-p24), he had been bound down for breach of peace. 7. the allegation of motive against kamaljit kaur (pw)-2, her sister and the husband of the latter is too fragile to be accepted. 3. appellant harcharan singh had no understandable reason to visit his parents after 8/9 years, particularly when he was the lone visitor and he had stayed over a fortnight.  1. two (02) accused were convicted by the learned trial court for a triple murder that took place in the intervening night of 2nd/ 3rd august, 2002. the deceased were the father, the mother and the brother of accused harcharan singh who has since withdrawn his appeal. the blood stained clothes aforementioned were, later on, got recovered by appellant, 3 harcharan singh, in pursuance of a disclosure statement. \n",
      "\n",
      "\n",
      "PERSON : surinder kaur\n",
      "mrs. surinder kaur had also sworn an affidavit (ex.p25) to that effect. \n",
      "\n",
      "\n",
      "PERSON : shamsher singh\n",
      "7. the allegation of motive against kamaljit kaur (pw)-2, her sister and the husband of the latter is too fragile to be accepted. \n",
      "\n",
      "\n",
      "PERSON : kamaljit kaur\n",
      "they had to, in any case, get the property of shamsher singh on account of the disinheritance of harcharan singh appellant by his parents. 7. the allegation of motive against kamaljit kaur (pw)-2, her sister and the husband of the latter is too fragile to be accepted. 4. he is proved to have been wearing a white kurta and pajama when he was last seen on the preceding night by kamaljit kaur (pw)-2. however, he was only in an underwear when he went over to the adjacent house of kamaljit kaur (pw)-2 at 1.30 am to intimate that some unknown person had attacked their parents. having separated from her husband, she is already distraught woman.” 4 3. except for the recovery of a dagger at the instance of the present accused appellant ramesh kumar there is no other incriminating material. as a real sister, kamaljit kaur would be least interested in losing her only living brother after the murder of her parents and the other brother. \n",
      "\n",
      "\n",
      "PERSON : ramesh kumar\n",
      "except him, none else could possibly have any inkling about that place of concealment. this circumstances connects appellant ramesh kumar with the crime for which he stands convicted. a lurking doubt remains in our minds which the accused appellant ramesh kumar would be entitled to. but it is our considered view that the above, by itself, cannot permit us to arrive at a conclusion, without any error, that it is the accused appellant ramesh kumar and nobody else who could have and did commit the crime. 5. appellant ramesh kumar got the recovery of the weapon of offence effected from the house of an aunt of his. having separated from her husband, she is already distraught woman.” 4 3. except for the recovery of a dagger at the instance of the present accused appellant ramesh kumar there is no other incriminating material. the present appellant ramesh kumar was a tenant in the house belonging to the deceased. we, therefore, allow this 5 appeal and set aside the order of the high court as well as the conviction and sentence recorded against the accused appellant ramesh kumar who is acquitted on the benefit of doubt. we further direct that the appellant ramesh kumar be released from custody forthwith unless his custody is required in connection with any other case. \n",
      "\n",
      "\n"
     ]
    }
   ],
   "source": [
    "for k,v in actions.items():\n",
    "    print('PERSON : ' + k + '\\n' + v + '\\n\\n')"
   ]
  },
  {
   "cell_type": "code",
   "execution_count": null,
   "metadata": {},
   "outputs": [],
   "source": []
  }
 ],
 "metadata": {
  "kernelspec": {
   "display_name": "Python 3",
   "language": "python",
   "name": "python3"
  },
  "language_info": {
   "codemirror_mode": {
    "name": "ipython",
    "version": 3
   },
   "file_extension": ".py",
   "mimetype": "text/x-python",
   "name": "python",
   "nbconvert_exporter": "python",
   "pygments_lexer": "ipython3",
   "version": "3.5.2"
  }
 },
 "nbformat": 4,
 "nbformat_minor": 2
}
